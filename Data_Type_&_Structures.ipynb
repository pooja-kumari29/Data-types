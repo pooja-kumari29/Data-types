{
  "nbformat": 4,
  "nbformat_minor": 0,
  "metadata": {
    "colab": {
      "provenance": []
    },
    "kernelspec": {
      "name": "python3",
      "display_name": "Python 3"
    },
    "language_info": {
      "name": "python"
    }
  },
  "cells": [
    {
      "cell_type": "markdown",
      "source": [
        "# Theoretical Questions"
      ],
      "metadata": {
        "id": "2hYGBvE7vfPt"
      }
    },
    {
      "cell_type": "markdown",
      "source": [
        "1. What are data structures, and why are they important?\n",
        "  - Data structures are specialized formats for organizing, storing, and accessing collections of data. They provide efficient ways to manage information based on its characteristics and intended use.\n",
        "    \n",
        "    They are important-\n",
        "  -Choosing the right data structure significantly impacts the efficiency and performance of your program.\n",
        "  -Simplify data manipulation (adding, removing, modifying elements)\n",
        "  -Optimize searching and sorting operations\n",
        "  -Conserve memory usage"
      ],
      "metadata": {
        "id": "S-IfZ21TwOQ_"
      }
    },
    {
      "cell_type": "markdown",
      "source": [
        "2. Explain the difference between mutable and immutable data types with examples.\n",
        "  - A mutable data type can be changed after it is created — you can modify, add, or remove elements whereas an immutable data type cannot be changed after it is created — if you try to change it, a new object is created."
      ],
      "metadata": {
        "id": "Dtyck2raxxlV"
      }
    },
    {
      "cell_type": "code",
      "source": [
        "# Mutable\n",
        "my_list = [1, 2, 3]\n",
        "my_list[0] = 10\n",
        "print(my_list)  # Output: [10, 2, 3]\n"
      ],
      "metadata": {
        "colab": {
          "base_uri": "https://localhost:8080/"
        },
        "id": "edlb0TEQzBUw",
        "outputId": "a4dad9f6-9ce8-4c48-946b-51e393e2560e"
      },
      "execution_count": null,
      "outputs": [
        {
          "output_type": "stream",
          "name": "stdout",
          "text": [
            "[10, 2, 3]\n"
          ]
        }
      ]
    },
    {
      "cell_type": "code",
      "execution_count": null,
      "metadata": {
        "colab": {
          "base_uri": "https://localhost:8080/"
        },
        "id": "eX1UZlBxsG-5",
        "outputId": "beff9831-d9da-4fb1-fcb4-89cd2efb42fb"
      },
      "outputs": [
        {
          "output_type": "stream",
          "name": "stdout",
          "text": [
            "Hello\n"
          ]
        }
      ],
      "source": [
        "# Immutable\n",
        "my_str = \"hello\"\n",
        "# my_str[0] = \"H\"  # This will give an error\n",
        "new_str = \"H\" + my_str[1:]\n",
        "print(new_str)  # Output: 'Hello'"
      ]
    },
    {
      "cell_type": "markdown",
      "source": [
        "3. What are the main differences between lists and tuples in Python?\n",
        "   \n",
        "   In Python, lists and tuples are both used to store collections of items. However, they are different in several important ways:\n",
        "    \n",
        "    Mutability:\n",
        "  - List is mutable, which means you can change, add, or remove elements after the list is created.\n",
        "  - Tuple is immutable, which means you cannot change, add, or remove elements after the tuple is created.\n",
        "    \n",
        "    Syntax:\n",
        "  - Lists are written using square brackets: [1, 2, 3]\n",
        "  - Tuples are written using round brackets: (1, 2, 3)\n",
        "    \n",
        "    Methods Available:\n",
        "  - Lists have more built-in methods like append(), remove(), sort(), etc.\n",
        "  - Tuples have fewer methods because they are immutable.\n",
        "  \n",
        "    Performance:\n",
        "  - Tuples are generally faster and use less memory than lists.\n",
        "  - Lists are slower but offer more flexibility.\n",
        "   \n",
        "    Use Cases:\n",
        "  - Use a list when your data needs to change (e.g., a shopping cart that changes over time).\n",
        "   - Use a tuple when your data should not change (e.g., coordinates or days of the week).\n",
        "\n",
        "\n",
        "\n"
      ],
      "metadata": {
        "id": "SUxBRY0MzTLR"
      }
    },
    {
      "cell_type": "markdown",
      "source": [
        "4. Describe how dictionaries store data?\n",
        "  \n",
        "  A dictionary in Python is a collection of key-value pairs. It stores data in a way that each value is accessed using a unique key — not by position like in lists or tuples.\n",
        "  - Python uses a hash table to store dictionary data.\n",
        "  - Each key is hashed (converted into a unique number).\n",
        "  - This hash helps Python quickly find where to store or retrieve the value in memory."
      ],
      "metadata": {
        "id": "OXsOkXpM2ccs"
      }
    },
    {
      "cell_type": "markdown",
      "source": [
        "5. Why might you use a set instead of a list in Python?\n",
        "\n",
        "  A set is a built-in data type in Python used to store unordered, unique elements. While lists allow duplicates and maintain order, sets are optimized for checking uniqueness and membership quickly.\n"
      ],
      "metadata": {
        "id": "YagQLiEn35PV"
      }
    },
    {
      "cell_type": "markdown",
      "source": [
        "6. What is a string in Python, and how is it different from a list?\n",
        "\n",
        "  In Strings characters are arranged in an unchangeable order. Consider writing a sentence, a paragraph, or a piece of material. Each character in the string can be accessed by its index, or position. Substrings can be extracted using slicing. Also they can be joined together and altered using a variety of techniques (find, replace, etc.).\n",
        "A list is also a sequence, but it is used to store a collection of items. These items can be of any data type — numbers, strings, or even other lists.\n",
        "\n",
        "  Here are the main differences between a string and a list:\n",
        "\n",
        "  Data Type Content:\n",
        "\n",
        "  A string stores only characters (letters, digits, or symbols) whereas a list can store elements of any type, such as integers, strings, or even other lists.\n",
        "\n",
        "  Syntax:\n",
        "\n",
        "  A string is written inside quotes like \"Hello\" whereas a list is written inside square brackets like [1, 2, 3] or [\"apple\", \"banana\"].\n",
        "\n",
        "  Mutability:\n",
        "\n",
        "  Strings are immutable, so you cannot change a character in a string directly and Lists are mutable, which means you can change, add, or remove items.\n"
      ],
      "metadata": {
        "id": "MA94CuRg4Xe1"
      }
    },
    {
      "cell_type": "markdown",
      "source": [
        "7. How do tuples ensure data integrity in Python?\n",
        "   \n",
        "   Tuples help ensure data integrity in Python primarily through their immutability."
      ],
      "metadata": {
        "id": "wTnCHKfi6N0n"
      }
    },
    {
      "cell_type": "markdown",
      "source": [
        "8. What is a hash table, and how does it relate to dictionaries in Python?\n",
        "\n",
        "  A hash table is the underlying data structure used to implement dictionaries in Python. It enables efficient key-based access by computing a hash code for each key and mapping it to a storage location.This is why Python dictionaries are fast and powerful for lookups, insertions, and deletions."
      ],
      "metadata": {
        "id": "QkisuX-oeHp0"
      }
    },
    {
      "cell_type": "markdown",
      "source": [
        "9. Can lists contain different data types in Python?\n",
        "   \n",
        "   Yes, Python lists can store elements of different data types, making them versatile for many programming tasks."
      ],
      "metadata": {
        "id": "20T393G0fD9j"
      }
    },
    {
      "cell_type": "markdown",
      "source": [
        "10. Explain why strings are immutable in Python.\n",
        "   \n",
        "   Strings are immutable in Python to ensure efficiency, safety, and reliability. This design choice makes strings hashable, supports internal optimizations, and protects against unexpected changes in code.\n"
      ],
      "metadata": {
        "id": "a1gKH1tXfm1Z"
      }
    },
    {
      "cell_type": "markdown",
      "source": [
        "11. What advantages do dictionaries offer over lists for certain tasks?\n",
        "   \n",
        "   Advantages of Dictionaries over Lists in Python:\n",
        "    \n",
        "    Faster Data Lookup\n",
        "\n",
        "  - Dictionaries let you find a value using a key, like data[\"name\"].\n",
        "   - In lists, you have to search or remember the index, like data[0].\n",
        "  \n",
        "    Key-Value Pairs (More Meaningful)\n",
        "\n",
        "  - Dictionaries store data in key-value pairs, which is easier to read and understand.\n",
        "\n",
        "  - Lists only use positions (indexes), which can be confusing.\n",
        "  \n",
        "    Easier to Update or Add Values\n",
        "\n",
        "  - You can add or update a dictionary using a key.\n",
        "  - With lists, you need to know the correct position (index).\n",
        "\n",
        "    Great for Counting and Grouping\n",
        "\n",
        "  - Dictionaries are useful for counting things.\n",
        "\n"
      ],
      "metadata": {
        "id": "KBs7TLwshbqi"
      }
    },
    {
      "cell_type": "markdown",
      "source": [
        "12. Describe a scenario where using a tuple would be preferable over a list.\n",
        "\n",
        "  A tuple is preferable over a list when you want to store a collection of items that should not change throughout the program.\n",
        "  ex- In an ATM system, use a tuple to store fixed currency denominations\n",
        "  Tuples are better here because denominations don't change — they ensure data integrity and are more efficient.\n",
        "  Use a list to store the changing quantity of notes:\n",
        "  Lists are better for modifiable data."
      ],
      "metadata": {
        "id": "epeaD4bdkvGp"
      }
    },
    {
      "cell_type": "markdown",
      "source": [
        "13. How do sets handle duplicate values in Python?\n",
        "\n",
        "  A set is an unordered collection of unique elements. When you add duplicate values, only one copy is kept. Sets ignore duplicates and keep only unique values."
      ],
      "metadata": {
        "id": "EsLYCs9Lprau"
      }
    },
    {
      "cell_type": "markdown",
      "source": [
        "14. How does the “in” keyword work differently for lists and dictionaries?\n",
        "\n",
        "  The in keyword checks for membership, but it works differently for lists and dictionaries in Python.\n",
        "  - For Lists: It checks if a value exists in the list.\n",
        "  - For Dictionaries: It checks if a key exists (not the value)."
      ],
      "metadata": {
        "id": "K7iPuh_NqlYe"
      }
    },
    {
      "cell_type": "markdown",
      "source": [
        "15. Can you modify the elements of a tuple? Explain why or why not.\n",
        "\n",
        "  No, we cannot modify the elements of a tuple in Python.\n",
        "  Because tuples are immutable, meaning once created, their elements cannot be changed, added, or removed.\n",
        "  In exception, If a tuple contains a mutable object (like a list), the object itself can be changed, but not the tuple structure."
      ],
      "metadata": {
        "id": "9s8X-hOkrTy2"
      }
    },
    {
      "cell_type": "markdown",
      "source": [
        "16. What is a nested dictionary, and give an example of its use case?\n",
        "   \n",
        "   A nested dictionary is a dictionary inside another dictionary.\n",
        "It allows you to store complex, hierarchical data."
      ],
      "metadata": {
        "id": "Ld0cWgozsPvs"
      }
    },
    {
      "cell_type": "code",
      "source": [
        "#Here, each student ID maps to another dictionary containing their details.\n",
        "\n",
        "students = {\n",
        "    \"101\": {\"name\": \"Alice\", \"grade\": \"A\"},\n",
        "    \"102\": {\"name\": \"Bob\", \"grade\": \"B\"},\n",
        "}\n",
        "print(students[\"101\"][\"name\"])  # Output: Alice"
      ],
      "metadata": {
        "colab": {
          "base_uri": "https://localhost:8080/"
        },
        "id": "8JE4yK6Ksv_X",
        "outputId": "77b7327d-0f42-4758-838c-ec79b8802577"
      },
      "execution_count": null,
      "outputs": [
        {
          "output_type": "stream",
          "name": "stdout",
          "text": [
            "Alice\n"
          ]
        }
      ]
    },
    {
      "cell_type": "markdown",
      "source": [
        "17. Describe the time complexity of accessing elements in a dictionary.\n",
        "\n",
        "  In Python, accessing an element in a dictionary has an average time complexity of:\n",
        "  \n",
        "  O(1) — Constant Time\n",
        "  \n",
        "  Dictionaries use a hash table internally. When we access a value using a key.\n",
        "  Python calculates the hash of the key 'a' to quickly find its location in memory — making access very fast.\n",
        "\n",
        "   Worst-Case Time Complexity\n",
        "  \n",
        "  This is rare, but can happen if:\n",
        "There are many hash collisions.\n",
        "The dictionary needs to resize or rehash\n",
        "\n"
      ],
      "metadata": {
        "id": "jnONBEtdtEGb"
      }
    },
    {
      "cell_type": "markdown",
      "source": [
        "18. In what situations are lists preferred over dictionaries?\n",
        "\n",
        "  - When the order of items is important.\n",
        "\n",
        "  - When we just need to store a group of values.\n",
        "\n",
        "  - When we want to access items by their position (like 1st, 2nd, 3rd).\n",
        "\n",
        "  - When we don’t need to label each item with a key.\n",
        "\n",
        "  - When working with small or simple data that doesn’t need mapping.\n",
        "\n",
        "  - When we want a simple and memory-efficient way to store items.\n",
        "\n"
      ],
      "metadata": {
        "id": "9trf-WzguLdu"
      }
    },
    {
      "cell_type": "markdown",
      "source": [
        "19. Why are dictionaries considered unordered, and how does that affect data retrieval?\n",
        "\n",
        "  Dictionaries are considered unordered because their items are accessed by keys, not by position. This means you can't expect the items to appear in the same order unless you're using a recent version of Python. It affects data retrieval by making key-based access important, not the order of items."
      ],
      "metadata": {
        "id": "UjIqrR75u_Uz"
      }
    },
    {
      "cell_type": "markdown",
      "source": [
        "20. Explain the difference between a list and a dictionary in terms of data retrieval.\n",
        "\n",
        "  A list uses numbers (indexes) to find items, while a dictionary uses named keys. Lists are good when order matters, and dictionaries are better when you want to find values using specific names or labels."
      ],
      "metadata": {
        "id": "i3A5zilQvZ4X"
      }
    },
    {
      "cell_type": "markdown",
      "source": [
        "# Practical Questions"
      ],
      "metadata": {
        "id": "Xadi2o-xvvyq"
      }
    },
    {
      "cell_type": "code",
      "source": [
        "# 1. Write a code to create a string with your name and print it.\n",
        "name= \"Pooja Kumari\"\n",
        "print(name)"
      ],
      "metadata": {
        "id": "_RUO_TB2zR15",
        "colab": {
          "base_uri": "https://localhost:8080/"
        },
        "outputId": "291bfbfe-ec34-4ba2-e914-c669edd07fe6"
      },
      "execution_count": null,
      "outputs": [
        {
          "output_type": "stream",
          "name": "stdout",
          "text": [
            "Pooja Kumari\n"
          ]
        }
      ]
    },
    {
      "cell_type": "code",
      "source": [
        "# 2. Write a code to find the length of the string \"Hello World.\n",
        "name= \"Hello World\"\n",
        "print(len(name))"
      ],
      "metadata": {
        "colab": {
          "base_uri": "https://localhost:8080/"
        },
        "id": "nqhvGGxMwLsv",
        "outputId": "8c2708a8-74e3-4a85-a74c-91ca4f9036ea"
      },
      "execution_count": null,
      "outputs": [
        {
          "output_type": "stream",
          "name": "stdout",
          "text": [
            "11\n"
          ]
        }
      ]
    },
    {
      "cell_type": "code",
      "source": [
        "# 3. Write a code to slice the first 3 characters from the string \"Python Programming.\n",
        "text = \"Python Programming\"\n",
        "sliced_text = text[:3]\n",
        "print(sliced_text)"
      ],
      "metadata": {
        "colab": {
          "base_uri": "https://localhost:8080/"
        },
        "id": "NKIorE84wnSp",
        "outputId": "92cca70f-01f4-4144-920e-857c433c62de"
      },
      "execution_count": null,
      "outputs": [
        {
          "output_type": "stream",
          "name": "stdout",
          "text": [
            "Pyt\n"
          ]
        }
      ]
    },
    {
      "cell_type": "code",
      "source": [
        "# 4. Write a code to convert the string \"hello\" to uppercase.\n",
        "a = \"hello\"\n",
        "a.upper()"
      ],
      "metadata": {
        "colab": {
          "base_uri": "https://localhost:8080/",
          "height": 35
        },
        "id": "djQgj0pfxBDM",
        "outputId": "f7ffa4b9-c8ac-453b-bad8-b92f32fb341f"
      },
      "execution_count": null,
      "outputs": [
        {
          "output_type": "execute_result",
          "data": {
            "text/plain": [
              "'HELLO'"
            ],
            "application/vnd.google.colaboratory.intrinsic+json": {
              "type": "string"
            }
          },
          "metadata": {},
          "execution_count": 7
        }
      ]
    },
    {
      "cell_type": "code",
      "source": [
        "# 5. Write a code to replace the word \"apple\" with \"orange\" in the string \"I like apple.\n",
        "text = \"I like apple\"\n",
        "text.replace(\"apple\", \"orange\")\n",
        "print(text)\n"
      ],
      "metadata": {
        "colab": {
          "base_uri": "https://localhost:8080/"
        },
        "id": "WE_1BiimxT0y",
        "outputId": "68087633-b0e1-4914-8f8e-12444f3b221a"
      },
      "execution_count": null,
      "outputs": [
        {
          "output_type": "stream",
          "name": "stdout",
          "text": [
            "I like apple\n"
          ]
        }
      ]
    },
    {
      "cell_type": "code",
      "source": [
        "# 6. Write a code to create a list with numbers 1 to 5 and print it.\n",
        "my_list = [1,2,3,4,5]\n",
        "print(my_list)"
      ],
      "metadata": {
        "colab": {
          "base_uri": "https://localhost:8080/"
        },
        "id": "miIcq6WOyftA",
        "outputId": "0ab02cc1-c697-49bd-e13f-d9e1ee005ef4"
      },
      "execution_count": null,
      "outputs": [
        {
          "output_type": "stream",
          "name": "stdout",
          "text": [
            "[1, 2, 3, 4, 5]\n"
          ]
        }
      ]
    },
    {
      "cell_type": "code",
      "source": [
        "# 7. Write a code to append the number 10 to the list [1, 2, 3, 4].\n",
        "my_list = [1,2,3,4]\n",
        "my_list.append(10)\n",
        "print(my_list)\n"
      ],
      "metadata": {
        "colab": {
          "base_uri": "https://localhost:8080/"
        },
        "id": "szBuUqEryy9F",
        "outputId": "3fd843cd-6e37-42b1-c537-ecdc75189639"
      },
      "execution_count": null,
      "outputs": [
        {
          "output_type": "stream",
          "name": "stdout",
          "text": [
            "[1, 2, 3, 4, 10]\n"
          ]
        }
      ]
    },
    {
      "cell_type": "code",
      "source": [
        "# 8. Write a code to remove the number 3 from the list [1, 2, 3, 4, 5].\n",
        "my_list = [1,2,3,4,5]\n",
        "my_list.remove(3)\n",
        "print(my_list)"
      ],
      "metadata": {
        "colab": {
          "base_uri": "https://localhost:8080/"
        },
        "id": "rrAz7bC6zRHD",
        "outputId": "37a5835a-1a7d-4693-b2d2-c5e694ad69fb"
      },
      "execution_count": null,
      "outputs": [
        {
          "output_type": "stream",
          "name": "stdout",
          "text": [
            "[1, 2, 4, 5]\n"
          ]
        }
      ]
    },
    {
      "cell_type": "code",
      "source": [
        "# 9. Write a code to access the second element in the list ['a', 'b', 'c', 'd'].\n",
        "my_list = [\"a\", \"b\", \"c\", \"d\"]\n",
        "print(my_list[1])"
      ],
      "metadata": {
        "colab": {
          "base_uri": "https://localhost:8080/"
        },
        "id": "yC6rX6wyzbtr",
        "outputId": "6d83f469-496d-4426-b25f-f5d6a4a30a68"
      },
      "execution_count": null,
      "outputs": [
        {
          "output_type": "stream",
          "name": "stdout",
          "text": [
            "b\n"
          ]
        }
      ]
    },
    {
      "cell_type": "code",
      "source": [
        "# 10. Write a code to reverse the list [10, 20, 30, 40, 50].\n",
        "my_list = [10, 20, 30, 40, 50]\n",
        "my_list.reverse()\n",
        "print(my_list)"
      ],
      "metadata": {
        "colab": {
          "base_uri": "https://localhost:8080/"
        },
        "id": "jy_mDZqYzxbW",
        "outputId": "57890f30-2147-4756-9b1e-1de37fc25749"
      },
      "execution_count": null,
      "outputs": [
        {
          "output_type": "stream",
          "name": "stdout",
          "text": [
            "[50, 40, 30, 20, 10]\n"
          ]
        }
      ]
    },
    {
      "cell_type": "code",
      "source": [
        "# 11. Write a code to create a tuple with the elements 100, 200, 300 and print it.\n",
        "tuple = (100,200,300)\n",
        "print(tuple)"
      ],
      "metadata": {
        "colab": {
          "base_uri": "https://localhost:8080/"
        },
        "id": "vwpQ5v190S5t",
        "outputId": "8c9c644c-2e50-4b15-94cc-94a9bc4ff1ad"
      },
      "execution_count": null,
      "outputs": [
        {
          "output_type": "stream",
          "name": "stdout",
          "text": [
            "(100, 200, 300)\n"
          ]
        }
      ]
    },
    {
      "cell_type": "code",
      "source": [
        "# 12. Write a code to access the second-to-last element of the tuple ('red', 'green', 'blue', 'yellow').\n",
        "tuple = ('red', 'green', 'blue', 'yellow')\n",
        "print(tuple[-2])"
      ],
      "metadata": {
        "colab": {
          "base_uri": "https://localhost:8080/"
        },
        "id": "3kvrgNFt07-d",
        "outputId": "bb207039-666a-4eea-db68-5dbd18722744"
      },
      "execution_count": null,
      "outputs": [
        {
          "output_type": "stream",
          "name": "stdout",
          "text": [
            "blue\n"
          ]
        }
      ]
    },
    {
      "cell_type": "code",
      "source": [
        "# 13. Write a code to find the minimum number in the tuple (10, 20, 5, 15).\n",
        "numbers = (10, 20, 5, 15)\n",
        "min(numbers)\n"
      ],
      "metadata": {
        "id": "UoDrafdq1QLo",
        "colab": {
          "base_uri": "https://localhost:8080/"
        },
        "outputId": "e041ec01-1681-40e8-e28b-f13e12c0e960"
      },
      "execution_count": null,
      "outputs": [
        {
          "output_type": "execute_result",
          "data": {
            "text/plain": [
              "5"
            ]
          },
          "metadata": {},
          "execution_count": 2
        }
      ]
    },
    {
      "cell_type": "code",
      "source": [
        "# 14. Write a code to find the index of the element \"cat\" in the tuple ('dog', 'cat', 'rabbit).\n",
        "pets = ('dog', 'cat', 'rabbit')\n",
        "pets.index('cat')"
      ],
      "metadata": {
        "colab": {
          "base_uri": "https://localhost:8080/"
        },
        "id": "oL3Gh-hkzU67",
        "outputId": "0ac18ece-8a55-43da-a117-4345a617ebc1"
      },
      "execution_count": null,
      "outputs": [
        {
          "output_type": "execute_result",
          "data": {
            "text/plain": [
              "1"
            ]
          },
          "metadata": {},
          "execution_count": 3
        }
      ]
    },
    {
      "cell_type": "code",
      "source": [
        "# 15. Write a code to create a tuple containing three different fruits and check if \"kiwi\" is in it.\n",
        "my_tuple = (\"apple\", \"banana\", \"cherry\")\n",
        "if \"kiwi\" in my_tuple:\n",
        "  print( \"kiwi is present in the tuple\")\n",
        "else:\n",
        "  print(\"kiwi is not present in the tuple\")"
      ],
      "metadata": {
        "colab": {
          "base_uri": "https://localhost:8080/"
        },
        "id": "bIT8PSSw0kjf",
        "outputId": "dfc84236-6818-43fa-a70b-8a4727548fe6"
      },
      "execution_count": null,
      "outputs": [
        {
          "output_type": "stream",
          "name": "stdout",
          "text": [
            "kiwi is not present in the tuple\n"
          ]
        }
      ]
    },
    {
      "cell_type": "code",
      "source": [
        "# 16. Write a code to create a set with the elements 'a', 'b', 'c' and print it.\n",
        "alphabet= {\"a\",\"b\",\"c\"}\n",
        "print(alphabet)"
      ],
      "metadata": {
        "colab": {
          "base_uri": "https://localhost:8080/"
        },
        "id": "BOmoxjNf07vA",
        "outputId": "d7e8ad11-7455-4d55-8ea0-be509bfb6782"
      },
      "execution_count": null,
      "outputs": [
        {
          "output_type": "stream",
          "name": "stdout",
          "text": [
            "{'a', 'c', 'b'}\n"
          ]
        }
      ]
    },
    {
      "cell_type": "code",
      "source": [
        "# 17. Write a code to clear all elements from the set {1, 2, 3, 4, 5}.\n",
        "my_set = {1, 2, 3, 4, 5}\n",
        "my_set.clear()\n",
        "print(my_set)"
      ],
      "metadata": {
        "colab": {
          "base_uri": "https://localhost:8080/"
        },
        "id": "OjEQySFt2p09",
        "outputId": "1059b0bb-5314-4ca7-9ab9-a31be1441051"
      },
      "execution_count": null,
      "outputs": [
        {
          "output_type": "stream",
          "name": "stdout",
          "text": [
            "set()\n"
          ]
        }
      ]
    },
    {
      "cell_type": "code",
      "source": [
        "# 18. Write a code to remove the element 4 from the set {1, 2, 3, 4}\n",
        "my_set = {1, 2, 3, 4}\n",
        "my_set.remove(4)\n",
        "print(my_set)"
      ],
      "metadata": {
        "colab": {
          "base_uri": "https://localhost:8080/"
        },
        "id": "PCo-D8rO26YX",
        "outputId": "553660d9-c4ca-4acd-c90c-bdd52c169b47"
      },
      "execution_count": null,
      "outputs": [
        {
          "output_type": "stream",
          "name": "stdout",
          "text": [
            "{1, 2, 3}\n"
          ]
        }
      ]
    },
    {
      "cell_type": "code",
      "source": [
        "# 19. Write a code to find the union of two sets {1, 2, 3} and {3, 4, 5}\n",
        "set1 = {1, 2, 3}\n",
        "set2 = {3, 4, 5}\n",
        "set3 = set1.union(set2)\n",
        "print(set3)"
      ],
      "metadata": {
        "colab": {
          "base_uri": "https://localhost:8080/"
        },
        "id": "6h30IitP3E0k",
        "outputId": "b1efb807-2426-4714-ae39-b3c10ca661e3"
      },
      "execution_count": null,
      "outputs": [
        {
          "output_type": "stream",
          "name": "stdout",
          "text": [
            "{1, 2, 3, 4, 5}\n"
          ]
        }
      ]
    },
    {
      "cell_type": "code",
      "source": [
        "# 20. Write a code to find the intersection of two sets {1, 2, 3} and {2, 3, 4}.\n",
        "set1 = {1, 2, 3}\n",
        "set2 = {2, 3, 4}\n",
        "set3 = set1.intersection(set2)\n",
        "print(set3)"
      ],
      "metadata": {
        "colab": {
          "base_uri": "https://localhost:8080/"
        },
        "id": "bQYbj51y3XPK",
        "outputId": "0a6bab13-50b7-496c-d562-7ad171609af2"
      },
      "execution_count": null,
      "outputs": [
        {
          "output_type": "stream",
          "name": "stdout",
          "text": [
            "{2, 3}\n"
          ]
        }
      ]
    },
    {
      "cell_type": "code",
      "source": [
        "# 21. Write a code to create a dictionary with the keys \"name\", \"age\", and \"city\", and print it.\n",
        "my_dict = {\"name\": \"Pooja\", \"age\": 22, \"city\": \"Delhi\"}\n",
        "print(my_dict)"
      ],
      "metadata": {
        "colab": {
          "base_uri": "https://localhost:8080/"
        },
        "id": "ZtVWwvwG3kAR",
        "outputId": "94b10738-4ca5-46c6-c87e-bd9afa6c2004"
      },
      "execution_count": null,
      "outputs": [
        {
          "output_type": "stream",
          "name": "stdout",
          "text": [
            "{'name': 'Pooja', 'age': 22, 'city': 'Delhi'}\n"
          ]
        }
      ]
    },
    {
      "cell_type": "code",
      "source": [
        "# 22. Write a code to add a new key-value pair \"country\": \"USA\" to the dictionary {'name': 'John', 'age': 25}.\n",
        "my_dict = {'name': 'John', 'age': 25}\n",
        "my_dict[\"country\"] = \"USA\"\n",
        "print(my_dict)"
      ],
      "metadata": {
        "colab": {
          "base_uri": "https://localhost:8080/"
        },
        "id": "o5aMXa1X338-",
        "outputId": "e86ca4d0-8c4e-45da-d6dc-70a02797711c"
      },
      "execution_count": null,
      "outputs": [
        {
          "output_type": "stream",
          "name": "stdout",
          "text": [
            "{'name': 'John', 'age': 25, 'country': 'USA'}\n"
          ]
        }
      ]
    },
    {
      "cell_type": "code",
      "source": [
        "# 23. Write a code to access the value associated with the key \"name\" in the dictionary {'name': 'Alice', 'age': 30}.\n",
        "my_dict = {'name': 'Alice','age':'30'}\n",
        "my_dict['name']"
      ],
      "metadata": {
        "colab": {
          "base_uri": "https://localhost:8080/",
          "height": 35
        },
        "id": "wfhBp1P74I71",
        "outputId": "9fe84da1-f135-4072-87a7-6fb125258f9e"
      },
      "execution_count": null,
      "outputs": [
        {
          "output_type": "execute_result",
          "data": {
            "text/plain": [
              "'Alice'"
            ],
            "application/vnd.google.colaboratory.intrinsic+json": {
              "type": "string"
            }
          },
          "metadata": {},
          "execution_count": 18
        }
      ]
    },
    {
      "cell_type": "code",
      "source": [
        "# 24. Write a code to remove the key \"age\" from the dictionary {'name': 'Bob', 'age': 22, 'city': 'New York'}.\n",
        "my_dict = {'name': 'Bob', 'age': 22, 'city': 'New York'}\n",
        "del my_dict['age']\n",
        "print(my_dict)"
      ],
      "metadata": {
        "colab": {
          "base_uri": "https://localhost:8080/"
        },
        "id": "5C4ouQ504kGE",
        "outputId": "28712230-f2d9-4c48-9656-19e70f4e4558"
      },
      "execution_count": null,
      "outputs": [
        {
          "output_type": "stream",
          "name": "stdout",
          "text": [
            "{'name': 'Bob', 'city': 'New York'}\n"
          ]
        }
      ]
    },
    {
      "cell_type": "code",
      "source": [
        "# 25. Write a code to check if the key \"city\" exists in the dictionary {'name': 'Alice', 'city': 'Paris'}\n",
        "my_dict = {'name': 'Alice', 'city': 'Paris'}\n",
        "if 'city' in my_dict:\n",
        "  print(\"city is present in the dictionary\")\n",
        "else:\n",
        "  print(\"city is not present in the dictionary\")"
      ],
      "metadata": {
        "colab": {
          "base_uri": "https://localhost:8080/"
        },
        "id": "1QrVA4Uu43hV",
        "outputId": "d3dfc737-77ab-4824-a65b-3188084b2222"
      },
      "execution_count": null,
      "outputs": [
        {
          "output_type": "stream",
          "name": "stdout",
          "text": [
            "city is present in the dictionary\n"
          ]
        }
      ]
    },
    {
      "cell_type": "code",
      "source": [
        "# 26. Write a code to create a list, a tuple, and a dictionary, and print them all.\n",
        "my_list = [1, 2, 3]\n",
        "my_tuple = (4, 5, 6)\n",
        "my_dict = {'a': 1, 'b': 2, 'c': 3}\n",
        "print(my_list)\n",
        "print(my_tuple)\n",
        "print(my_dict)"
      ],
      "metadata": {
        "colab": {
          "base_uri": "https://localhost:8080/"
        },
        "id": "FQlmRdfv5Iwf",
        "outputId": "d565b825-b1e0-4ed0-d18e-b6f29e348940"
      },
      "execution_count": null,
      "outputs": [
        {
          "output_type": "stream",
          "name": "stdout",
          "text": [
            "[1, 2, 3]\n",
            "(4, 5, 6)\n",
            "{'a': 1, 'b': 2, 'c': 3}\n"
          ]
        }
      ]
    },
    {
      "cell_type": "code",
      "source": [
        "# 27. Write a code to create a list of 5 random numbers between 1 and 100, sort it in ascending order, and print the result.(replaced)\n",
        "import random\n",
        "numbers = [random.randint(1, 100) for _ in range(5)]\n",
        "numbers.sort()\n",
        "print(\"Sorted list of random numbers:\", numbers)\n"
      ],
      "metadata": {
        "colab": {
          "base_uri": "https://localhost:8080/"
        },
        "id": "YxTaD3Mc5TTo",
        "outputId": "604b74d8-5952-4825-f748-f67ef16fd696"
      },
      "execution_count": null,
      "outputs": [
        {
          "output_type": "stream",
          "name": "stdout",
          "text": [
            "Sorted list of random numbers: [9, 19, 27, 48, 95]\n"
          ]
        }
      ]
    },
    {
      "cell_type": "code",
      "source": [
        "# 28. Write a code to create a list with strings and print the element at the third index.\n",
        "my_list = ['apple', 'banana', 'cherry', 'orange', 'grape']\n",
        "my_list[3]"
      ],
      "metadata": {
        "colab": {
          "base_uri": "https://localhost:8080/",
          "height": 35
        },
        "id": "N-FG5yIY6out",
        "outputId": "0fb6217d-40a8-485b-b0a6-7b23ba834563"
      },
      "execution_count": null,
      "outputs": [
        {
          "output_type": "execute_result",
          "data": {
            "text/plain": [
              "'orange'"
            ],
            "application/vnd.google.colaboratory.intrinsic+json": {
              "type": "string"
            }
          },
          "metadata": {},
          "execution_count": 26
        }
      ]
    },
    {
      "cell_type": "code",
      "source": [
        "# 29. Write a code to combine two dictionaries into one and print the result.\n",
        "dict1 = {'a': 1, 'b': 2}\n",
        "dict2 = {'c': 3, 'd': 4}\n",
        "combined_dict = {**dict1, **dict2}\n",
        "print(\"Combined dictionary:\", combined_dict)\n"
      ],
      "metadata": {
        "colab": {
          "base_uri": "https://localhost:8080/"
        },
        "id": "hahHzM2L7Ek-",
        "outputId": "5b601faa-d8b6-4f91-ee03-39031cc9a4df"
      },
      "execution_count": null,
      "outputs": [
        {
          "output_type": "stream",
          "name": "stdout",
          "text": [
            "Combined dictionary: {'a': 1, 'b': 2, 'c': 3, 'd': 4}\n"
          ]
        }
      ]
    },
    {
      "cell_type": "code",
      "source": [
        "# 30. Write a code to convert a list of strings into a set.\n",
        "string_list = ['apple', 'banana', 'cherry', 'apple', 'banana']\n",
        "string_set = set(string_list)\n",
        "print(\"Set:\", string_set)"
      ],
      "metadata": {
        "colab": {
          "base_uri": "https://localhost:8080/"
        },
        "id": "6u3M7zrh7wVR",
        "outputId": "87b3dcd6-39e9-41e5-9296-e33b166514e7"
      },
      "execution_count": null,
      "outputs": [
        {
          "output_type": "stream",
          "name": "stdout",
          "text": [
            "Set: {'apple', 'cherry', 'banana'}\n"
          ]
        }
      ]
    }
  ]
}